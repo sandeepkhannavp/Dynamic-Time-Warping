{
  "nbformat": 4,
  "nbformat_minor": 0,
  "metadata": {
    "colab": {
      "provenance": []
    },
    "kernelspec": {
      "name": "python3",
      "display_name": "Python 3"
    },
    "language_info": {
      "name": "python"
    }
  },
  "cells": [
    {
      "cell_type": "markdown",
      "source": [
        "# Dynamic Time Wrapping"
      ],
      "metadata": {
        "id": "PHfy7_6wgcrb"
      }
    },
    {
      "cell_type": "markdown",
      "source": [
        "A pattern recognition algorithm specially for close price patterns using Featured-based Dynamic Time Warping and Pattern Rule."
      ],
      "metadata": {
        "id": "6Lyaj7WKyN22"
      }
    },
    {
      "cell_type": "markdown",
      "source": [
        "Model III: DTW with Feature-based Objective Function"
      ],
      "metadata": {
        "id": "FaMW4UXlwxGo"
      }
    },
    {
      "cell_type": "markdown",
      "source": [
        "Imports"
      ],
      "metadata": {
        "id": "Ny4U6mIFmQ6k"
      }
    },
    {
      "cell_type": "code",
      "execution_count": 1,
      "metadata": {
        "id": "0uQCNcYDgWNR"
      },
      "outputs": [],
      "source": [
        "import math\n",
        "import pandas as pd\n",
        "import numpy as np\n",
        "from datetime import datetime\n",
        "import plotly.graph_objects as go\n",
        "from plotly.subplots import make_subplots\n",
        "import colorsys"
      ]
    },
    {
      "cell_type": "markdown",
      "source": [
        "**Utility Functions**"
      ],
      "metadata": {
        "id": "GZ8y6QlXmZXj"
      }
    },
    {
      "cell_type": "code",
      "source": [
        "def _get_colors(num_colors):\n",
        "\n",
        "    def rgb_to_hex(rgb):\n",
        "        return ('#{:02X}{:02X}{:02X}').format(int(rgb[0] * 255), int(rgb[1] * 255), int(rgb[2] * 255))\n",
        "\n",
        "    colors=[]\n",
        "    for i in np.arange(0., 360., 360. / num_colors):\n",
        "        hue = i/360.\n",
        "        lightness = (50 + np.random.rand() * 10)/100.\n",
        "        saturation = (90 + np.random.rand() * 10)/100.\n",
        "        colors.append(rgb_to_hex(colorsys.hls_to_rgb(hue, lightness, saturation)))\n",
        "    return colors\n",
        "\n",
        "def standardize_prices(x):\n",
        "    result = []\n",
        "    for i, j in zip(x, x[1:]):\n",
        "        result.append(((i - j) * 100) / j)\n",
        "    return np.array(result)\n",
        "\n",
        "def min_max_normalize(x):\n",
        "    result = []\n",
        "    mx = max(x)\n",
        "    mn = min(x)\n",
        "    for i in x:\n",
        "        result.append(((i - mn) / (mx - mn)) * 100)\n",
        "    return np.array(result)"
      ],
      "metadata": {
        "id": "cQAl9a46mSws"
      },
      "execution_count": 2,
      "outputs": []
    },
    {
      "cell_type": "markdown",
      "source": [
        "**Dynamic Time Wrapping (Dynamic Programming Implementation)**"
      ],
      "metadata": {
        "id": "dO7v78bBmdoh"
      }
    },
    {
      "cell_type": "code",
      "source": [
        "def dtw(x, y, distance):\n",
        "    N = len(x)\n",
        "    M = len(y)\n",
        "    cost_matrix = np.zeros((N + 1, M + 1))\n",
        "    for i in range(1, N + 1):\n",
        "        cost_matrix[i, 0] = np.inf\n",
        "    for j in range(1, M + 1):\n",
        "        cost_matrix[0, j] = np.inf\n",
        "\n",
        "    traceback_mat = np.zeros((N, M))\n",
        "    for i in range(N):\n",
        "        for j in range(M):\n",
        "            penalty = [\n",
        "                cost_matrix[i, j],\n",
        "                cost_matrix[i, j + 1],\n",
        "                cost_matrix[i + 1, j]\n",
        "            ]\n",
        "            i_penalty = np.argmin(penalty)\n",
        "            cost_matrix[i + 1, j +\n",
        "                        1] = distance(i, j, N, M, x, y) + penalty[i_penalty]\n",
        "            traceback_mat[i, j] = i_penalty\n",
        "\n",
        "    i = N - 1\n",
        "    j = M - 1\n",
        "    path = [(i, j)]\n",
        "    while i > 0 or j > 0:\n",
        "        p = traceback_mat[i, j]\n",
        "        if p == 0:\n",
        "            i = i - 1\n",
        "            j = j - 1\n",
        "        elif p == 1:\n",
        "            i = i - 1\n",
        "        elif p == 2:\n",
        "            j = j - 1\n",
        "        path.append((i, j))\n",
        "\n",
        "    return path[::-1], (cost_matrix[1:, 1:][N-1, M-1] / (N+M))"
      ],
      "metadata": {
        "id": "FpSbhMt-mbKg"
      },
      "execution_count": 3,
      "outputs": []
    },
    {
      "cell_type": "markdown",
      "source": [
        "**Distance Functions**"
      ],
      "metadata": {
        "id": "LlskJbHjmnx7"
      }
    },
    {
      "cell_type": "markdown",
      "source": [
        "It computes global feature and local feature of sequences and adds them up as distance measure between two data points. For each point, it first computes a local vector consisting of two values, current point minus previous point and current point minus next point. It better reflects the local trend than the first derivative of the point.\n",
        "\n",
        "With R = (r1,r2,...,rT) and Q = (q1,q2,...,qS)\n"
      ],
      "metadata": {
        "id": "hte4HNnEwwC2"
      }
    },
    {
      "cell_type": "markdown",
      "source": [
        "While local feature can address the shape like first derivative can, it does not address the position of data point in whole sequence. The value of data point can serve that purpose; However, it is not on the same scale with local feature. So global feature is computed in the same fashion of local feature with a slightly different term to subtract."
      ],
      "metadata": {
        "id": "LOFDtydvxQn1"
      }
    },
    {
      "cell_type": "markdown",
      "source": [
        "dist(rt,qs) = dist_local(rt,qs) + dist_global(rt,qs)"
      ],
      "metadata": {
        "id": "BbvNz2q-xzpR"
      }
    },
    {
      "cell_type": "code",
      "source": [
        "def manhattan_distance(i, j, N, M, x, y):\n",
        "    return abs(x[i] - y[j])\n",
        "\n",
        "def feature_based_distance(i, j, N, M, x, y):\n",
        "\n",
        "    def cal_f_local(i, N, x):\n",
        "        f_local = [x[i], x[i]]\n",
        "        if i != 0:\n",
        "            f_local[0] = f_local[0] - x[i - 1]\n",
        "        if i != N - 1:\n",
        "            f_local[1] = f_local[1] - x[i + 1]\n",
        "        return f_local\n",
        "\n",
        "    def cal_f_global(i, N, x):\n",
        "        f_global = [x[i], x[i]]\n",
        "\n",
        "        before_half = sum(x[:i]) / len(x[:i + 1])\n",
        "        f_global[0] = f_global[0] - before_half\n",
        "\n",
        "        after_half = sum(x[i + 1:]) / len(x[i:])\n",
        "        f_global[1] = f_global[1] - after_half\n",
        "        return f_global\n",
        "\n",
        "    f_local_x = cal_f_local(i, N, x)\n",
        "    f_local_y = cal_f_local(j, M, y)\n",
        "\n",
        "    f_global_x = cal_f_global(i, N, x)\n",
        "    f_global_y = cal_f_global(j, M, y)\n",
        "\n",
        "    dist_local = abs(f_local_x[0] - f_local_y[0]) + \\\n",
        "        abs(f_local_x[1] - f_local_y[1])\n",
        "    dist_global = abs(f_global_x[0] - f_global_y[0]) + \\\n",
        "        abs(f_global_x[1] - f_global_y[1])\n",
        "\n",
        "    return dist_local + dist_global"
      ],
      "metadata": {
        "id": "5lqj7XUlmkz1"
      },
      "execution_count": 4,
      "outputs": []
    },
    {
      "cell_type": "markdown",
      "source": [
        "**Final Result**"
      ],
      "metadata": {
        "id": "43HpKDo2muOp"
      }
    },
    {
      "cell_type": "code",
      "source": [
        "pattern = min_max_normalize(np.array([2.5, -2.5, 2.5, -2.5, 2.5]))\n",
        "pattern_length = len(pattern)\n",
        "desired_length = pattern_length + 5\n",
        "\n",
        "df = pd.read_csv('APPL.csv')\n",
        "for i in [\"Close/Last\", \"Open\", \"High\", \"Low\"]:\n",
        "    df[i] = df[i].apply(lambda x: float(x.replace('$', '')))\n",
        "\n",
        "close = df[\"Close/Last\"]\n",
        "\n",
        "fig = make_subplots(rows=2, cols=1)\n",
        "\n",
        "fig.add_trace(go.Candlestick(x=df['Date'],\n",
        "                            open=df['Open'],\n",
        "                            high=df['High'],\n",
        "                            low=df['Low'],\n",
        "                            close=df['Close/Last'], name=\"TSLA\"), row=1, col=1)\n",
        "\n",
        "fig.update_layout(xaxis_rangeslider_visible=False)\n",
        "\n",
        "\n",
        "fig.add_trace(go.Scatter(\n",
        "    x=np.arange(pattern_length), y=pattern, name=\"Pattern\", line={\"color\" : \"black\"}), row=2, col=1)\n",
        "\n",
        "colors = _get_colors(pattern_length)\n",
        "\n",
        "for offset in range(0, (len(close) // desired_length) + 1):\n",
        "\n",
        "    target = min_max_normalize(\n",
        "        close[offset * desired_length: (offset + 1) * desired_length])\n",
        "    \n",
        "    if not len(target):\n",
        "        continue\n",
        "\n",
        "    path, cost = dtw(target, pattern, feature_based_distance)\n",
        "\n",
        "    match_x = dict()\n",
        "    match_y = dict()\n",
        "\n",
        "    for _ in range(pattern_length):\n",
        "        match_x[_] = []\n",
        "        match_y[_] = []\n",
        "\n",
        "    for pr, nt in zip(path, path[1:]):\n",
        "        if pr[1] == nt[1]:\n",
        "            match_x[pr[1]].append(\n",
        "                df['Date'][pr[0] + (desired_length * offset)])\n",
        "            match_y[pr[1]].append(\n",
        "                df['Close/Last'][pr[0] + (desired_length * offset)])\n",
        "        elif pr[1] != nt[1]:\n",
        "            match_x[pr[1]].append(\n",
        "                df['Date'][pr[0] + (desired_length * offset)])\n",
        "            match_y[pr[1]].append(\n",
        "                df['Close/Last'][pr[0] + (desired_length * offset)])\n",
        "            match_x[pr[1]].append(\n",
        "                df['Date'][nt[0] + (desired_length * offset)])\n",
        "            match_y[pr[1]].append(\n",
        "                df['Close/Last'][nt[0] + (desired_length * offset)])\n",
        "\n",
        "    match_x[path[-1][1]].append(df['Date']\n",
        "                                [path[-1][0] + (desired_length * offset)])\n",
        "    match_y[path[-1][1]].append(df['Close/Last']\n",
        "                                [path[-1][0] + (desired_length * offset)])\n",
        "\n",
        "    for _ in range(pattern_length):\n",
        "        fig.add_trace(go.Scatter(\n",
        "            x=match_x[_], y=match_y[_], name=f\"Pat-{_}\", line={\"color\": colors[_]}), row=1, col=1)\n",
        "\n",
        "fig.show()"
      ],
      "metadata": {
        "colab": {
          "base_uri": "https://localhost:8080/",
          "height": 542
        },
        "id": "MSbQdCpemrYb",
        "outputId": "3669639d-ed27-42bf-b3c1-f55f504b6999"
      },
      "execution_count": 6,
      "outputs": [
        {
          "output_type": "display_data",
          "data": {
            "text/html": [
              "<html>\n",
              "<head><meta charset=\"utf-8\" /></head>\n",
              "<body>\n",
              "    <div>            <script src=\"https://cdnjs.cloudflare.com/ajax/libs/mathjax/2.7.5/MathJax.js?config=TeX-AMS-MML_SVG\"></script><script type=\"text/javascript\">if (window.MathJax) {MathJax.Hub.Config({SVG: {font: \"STIX-Web\"}});}</script>                <script type=\"text/javascript\">window.PlotlyConfig = {MathJaxConfig: 'local'};</script>\n",
              "        <script src=\"https://cdn.plot.ly/plotly-2.8.3.min.js\"></script>                <div id=\"cedba0a4-2287-44b0-a02d-05a7b1039992\" class=\"plotly-graph-div\" style=\"height:525px; width:100%;\"></div>            <script type=\"text/javascript\">                                    window.PLOTLYENV=window.PLOTLYENV || {};                                    if (document.getElementById(\"cedba0a4-2287-44b0-a02d-05a7b1039992\")) {                    Plotly.newPlot(                        \"cedba0a4-2287-44b0-a02d-05a7b1039992\",                        [{\"close\":[138.38,138.88,145.03,150.65,153.34,155.74,144.8,149.35,152.34,149.45,147.27,143.39,143.86,143.75,142.41,138.38,142.99,138.34,138.98,140.42,140.09,145.43,146.4,146.1,142.45,138.2,142.48,149.84,151.76,150.77,150.43,152.74,153.72,156.9,154.48,150.7,152.37,155.31,153.84,163.43,157.37,154.46,155.96,154.53,155.81,157.96,157.22,158.91,161.38,163.62,170.03,167.53,167.23,167.57,171.52,174.15,174.55,173.03,173.19,172.1,168.49,169.24,164.92,164.87,165.35,165.81,166.13,160.01,161.51,162.51,157.35,156.79,151.6,152.95,154.09,155.35,153.04,151.0,147.07,150.17,148.47,145.49,145.86,144.87,147.04,146.35,142.92,141.56,138.93,136.72,139.23,137.44,141.66,141.66,138.27,135.35,135.87,131.56,130.06,135.43,132.76,131.88,137.13,142.64,147.96,148.71,146.14,145.38,151.21,148.71,148.84,149.64,143.78,140.52,140.36,143.11,137.59,137.35,140.82,149.24,145.54,147.11,142.56,146.5,154.51,152.06],\"high\":[142.67,142.8,152.17,155.45,154.24,157.5,149.046,151.99,152.49,150.23,147.8479,145.89,144.9492,146.7,142.9,144.52,143.59,140.36,141.35,141.89,143.1,147.54,147.38,146.22,143.07,143.1,146.72,150.6414,154.72,153.7701,151.47,154.47,158.74,158.08,154.56,151.35,155.24,157.1,160.54,164.26,157.82,156.36,156.67,157.09,160.362,158.42,160.58,162.56,162.9,171.05,170.14,168.11,168.71,169.86,173.74,174.9,176.15,173.71,173.39,172.17,170.99,169.34,165.82,167.81,165.85,167.19,166.59,162.41,163.59,163.63,157.64,157.33,153.085,155.04,156.28,155.57,153.72,151.23,151.57,150.86,148.95,146.45,148.45,146.64,147.55,146.55,144.12,141.61,139.04,138.37,140.67,143.422,143.49,141.91,138.59,137.76,137.06,133.079,132.39,137.34,133.89,135.2,140.76,147.95,149.8697,149.0,148.5689,147.97,151.27,151.74,150.66,149.68,144.34,141.785,141.97,143.26,140.7,141.66,147.3601,149.77,147.5199,148.105,146.2,155.45,156.74,155.83],\"low\":[134.38,138.75,145.0,149.13,151.92,147.82,144.13,148.04,149.36,146.0,142.649,142.65,141.5,140.61,140.27,138.19,134.37,138.16,138.22,138.5729,139.445,145.22,143.01,144.26,137.685,138.0,140.68,144.84,149.945,149.64,148.56,150.91,153.6,153.08,149.1,148.37,151.38,153.6106,153.37,159.3,154.75,152.68,153.61,153.69,154.965,154.67,157.14,157.72,159.82,163.56,168.35,166.245,166.65,167.135,171.3101,173.12,172.57,171.6618,171.345,169.4,168.19,166.9,163.25,164.2,163.0,164.43,160.75,159.63,160.89,159.5,154.41,152.16,150.8,152.28,153.41,151.94,150.37,146.91,146.7,148.2,143.25,142.1201,145.05,143.78,145.0,143.28,141.08,136.93,135.66,133.7737,136.67,137.325,140.965,139.77,135.63,133.91,133.32,129.81,129.04,132.16,131.48,131.44,137.06,142.53,147.46,144.1,144.9,144.46,146.86,147.68,146.84,145.26,137.14,138.34,137.33,137.65,132.61,136.6,139.9,146.68,144.18,143.11,138.8,145.81,152.93,151.49],\"name\":\"TSLA\",\"open\":[142.09,142.06,148.945,155.08,153.155,148.2,148.07,150.96,150.09,147.185,142.87,143.02,141.69,145.49,141.065,144.31,134.99,139.13,139.9,140.42,142.54,145.81,144.075,145.03,138.21,141.28,146.1,147.64,152.74,149.66,151.19,152.38,157.34,153.4,149.31,151.21,154.65,154.785,159.9,159.59,155.47,154.64,154.825,156.47,159.75,156.64,160.305,162.13,161.145,170.57,168.78,167.32,167.08,169.69,173.03,173.75,172.77,172.78,171.52,169.82,170.06,167.68,164.02,166.37,163.21,166.005,160.84,160.1,161.01,161.24,156.98,152.58,152.265,154.01,155.39,154.5,151.12,147.92,150.74,149.78,144.08,142.99,145.76,145.67,145.265,143.29,141.355,137.77,136.04,137.25,137.46,142.13,142.695,139.9,136.82,134.79,133.42,130.065,132.08,134.29,133.13,132.87,140.28,147.08,148.58,144.345,147.03,146.9,147.83,149.9,149.07,145.39,137.39,138.43,140.805,137.79,139.09,139.88,146.85,148.86,145.55,144.59,142.77,153.5,155.52,154.925],\"x\":[\"11/04/2022\",\"11/03/2022\",\"11/02/2022\",\"11/01/2022\",\"10/31/2022\",\"10/28/2022\",\"10/27/2022\",\"10/26/2022\",\"10/25/2022\",\"10/24/2022\",\"10/21/2022\",\"10/20/2022\",\"10/19/2022\",\"10/18/2022\",\"10/17/2022\",\"10/14/2022\",\"10/13/2022\",\"10/12/2022\",\"10/11/2022\",\"10/10/2022\",\"10/07/2022\",\"10/06/2022\",\"10/05/2022\",\"10/04/2022\",\"10/03/2022\",\"09/30/2022\",\"09/29/2022\",\"09/28/2022\",\"09/27/2022\",\"09/26/2022\",\"09/23/2022\",\"09/22/2022\",\"09/21/2022\",\"09/20/2022\",\"09/19/2022\",\"09/16/2022\",\"09/15/2022\",\"09/14/2022\",\"09/13/2022\",\"09/12/2022\",\"09/09/2022\",\"09/08/2022\",\"09/07/2022\",\"09/06/2022\",\"09/02/2022\",\"09/01/2022\",\"08/31/2022\",\"08/30/2022\",\"08/29/2022\",\"08/26/2022\",\"08/25/2022\",\"08/24/2022\",\"08/23/2022\",\"08/22/2022\",\"08/19/2022\",\"08/18/2022\",\"08/17/2022\",\"08/16/2022\",\"08/15/2022\",\"08/12/2022\",\"08/11/2022\",\"08/10/2022\",\"08/09/2022\",\"08/08/2022\",\"08/05/2022\",\"08/04/2022\",\"08/03/2022\",\"08/02/2022\",\"08/01/2022\",\"07/29/2022\",\"07/28/2022\",\"07/27/2022\",\"07/26/2022\",\"07/25/2022\",\"07/22/2022\",\"07/21/2022\",\"07/20/2022\",\"07/19/2022\",\"07/18/2022\",\"07/15/2022\",\"07/14/2022\",\"07/13/2022\",\"07/12/2022\",\"07/11/2022\",\"07/08/2022\",\"07/07/2022\",\"07/06/2022\",\"07/05/2022\",\"07/01/2022\",\"06/30/2022\",\"06/29/2022\",\"06/28/2022\",\"06/27/2022\",\"06/24/2022\",\"06/23/2022\",\"06/22/2022\",\"06/21/2022\",\"06/17/2022\",\"06/16/2022\",\"06/15/2022\",\"06/14/2022\",\"06/13/2022\",\"06/10/2022\",\"06/09/2022\",\"06/08/2022\",\"06/07/2022\",\"06/06/2022\",\"06/03/2022\",\"06/02/2022\",\"06/01/2022\",\"05/31/2022\",\"05/27/2022\",\"05/26/2022\",\"05/25/2022\",\"05/24/2022\",\"05/23/2022\",\"05/20/2022\",\"05/19/2022\",\"05/18/2022\",\"05/17/2022\",\"05/16/2022\",\"05/13/2022\",\"05/12/2022\",\"05/11/2022\",\"05/10/2022\",\"05/09/2022\"],\"type\":\"candlestick\",\"xaxis\":\"x\",\"yaxis\":\"y\"},{\"line\":{\"color\":\"black\"},\"name\":\"Pattern\",\"x\":[0,1,2,3,4],\"y\":[100.0,0.0,100.0,0.0,100.0],\"type\":\"scatter\",\"xaxis\":\"x2\",\"yaxis\":\"y2\"},{\"line\":{\"color\":\"#FA3434\"},\"name\":\"Pat-0\",\"x\":[\"11/04/2022\",\"11/03/2022\"],\"y\":[138.38,138.88],\"type\":\"scatter\",\"xaxis\":\"x\",\"yaxis\":\"y\"},{\"line\":{\"color\":\"#D3FE27\"},\"name\":\"Pat-1\",\"x\":[\"11/03/2022\",\"11/02/2022\",\"11/01/2022\"],\"y\":[138.88,145.03,150.65],\"type\":\"scatter\",\"xaxis\":\"x\",\"yaxis\":\"y\"},{\"line\":{\"color\":\"#08F768\"},\"name\":\"Pat-2\",\"x\":[\"11/01/2022\",\"10/31/2022\",\"10/28/2022\",\"10/27/2022\"],\"y\":[150.65,153.34,155.74,144.8],\"type\":\"scatter\",\"xaxis\":\"x\",\"yaxis\":\"y\"},{\"line\":{\"color\":\"#277DFC\"},\"name\":\"Pat-3\",\"x\":[\"10/27/2022\",\"10/26/2022\"],\"y\":[144.8,149.35],\"type\":\"scatter\",\"xaxis\":\"x\",\"yaxis\":\"y\"},{\"line\":{\"color\":\"#CB0CFB\"},\"name\":\"Pat-4\",\"x\":[\"10/26/2022\",\"10/25/2022\",\"10/24/2022\"],\"y\":[149.35,152.34,149.45],\"type\":\"scatter\",\"xaxis\":\"x\",\"yaxis\":\"y\"},{\"line\":{\"color\":\"#FA3434\"},\"name\":\"Pat-0\",\"x\":[\"10/21/2022\",\"10/20/2022\",\"10/19/2022\",\"10/18/2022\",\"10/17/2022\",\"10/14/2022\"],\"y\":[147.27,143.39,143.86,143.75,142.41,138.38],\"type\":\"scatter\",\"xaxis\":\"x\",\"yaxis\":\"y\"},{\"line\":{\"color\":\"#D3FE27\"},\"name\":\"Pat-1\",\"x\":[\"10/14/2022\",\"10/13/2022\"],\"y\":[138.38,142.99],\"type\":\"scatter\",\"xaxis\":\"x\",\"yaxis\":\"y\"},{\"line\":{\"color\":\"#08F768\"},\"name\":\"Pat-2\",\"x\":[\"10/13/2022\",\"10/12/2022\"],\"y\":[142.99,138.34],\"type\":\"scatter\",\"xaxis\":\"x\",\"yaxis\":\"y\"},{\"line\":{\"color\":\"#277DFC\"},\"name\":\"Pat-3\",\"x\":[\"10/12/2022\",\"10/11/2022\",\"10/10/2022\"],\"y\":[138.34,138.98,140.42],\"type\":\"scatter\",\"xaxis\":\"x\",\"yaxis\":\"y\"},{\"line\":{\"color\":\"#CB0CFB\"},\"name\":\"Pat-4\",\"x\":[\"10/10/2022\"],\"y\":[140.42],\"type\":\"scatter\",\"xaxis\":\"x\",\"yaxis\":\"y\"},{\"line\":{\"color\":\"#FA3434\"},\"name\":\"Pat-0\",\"x\":[\"10/07/2022\",\"10/06/2022\",\"10/05/2022\"],\"y\":[140.09,145.43,146.4],\"type\":\"scatter\",\"xaxis\":\"x\",\"yaxis\":\"y\"},{\"line\":{\"color\":\"#D3FE27\"},\"name\":\"Pat-1\",\"x\":[\"10/05/2022\",\"10/04/2022\"],\"y\":[146.4,146.1],\"type\":\"scatter\",\"xaxis\":\"x\",\"yaxis\":\"y\"},{\"line\":{\"color\":\"#08F768\"},\"name\":\"Pat-2\",\"x\":[\"10/04/2022\",\"10/03/2022\"],\"y\":[146.1,142.45],\"type\":\"scatter\",\"xaxis\":\"x\",\"yaxis\":\"y\"},{\"line\":{\"color\":\"#277DFC\"},\"name\":\"Pat-3\",\"x\":[\"10/03/2022\",\"09/30/2022\",\"09/29/2022\",\"09/28/2022\"],\"y\":[142.45,138.2,142.48,149.84],\"type\":\"scatter\",\"xaxis\":\"x\",\"yaxis\":\"y\"},{\"line\":{\"color\":\"#CB0CFB\"},\"name\":\"Pat-4\",\"x\":[\"09/28/2022\",\"09/27/2022\",\"09/26/2022\"],\"y\":[149.84,151.76,150.77],\"type\":\"scatter\",\"xaxis\":\"x\",\"yaxis\":\"y\"},{\"line\":{\"color\":\"#FA3434\"},\"name\":\"Pat-0\",\"x\":[\"09/23/2022\",\"09/22/2022\"],\"y\":[150.43,152.74],\"type\":\"scatter\",\"xaxis\":\"x\",\"yaxis\":\"y\"},{\"line\":{\"color\":\"#D3FE27\"},\"name\":\"Pat-1\",\"x\":[\"09/22/2022\",\"09/21/2022\",\"09/20/2022\"],\"y\":[152.74,153.72,156.9],\"type\":\"scatter\",\"xaxis\":\"x\",\"yaxis\":\"y\"},{\"line\":{\"color\":\"#08F768\"},\"name\":\"Pat-2\",\"x\":[\"09/20/2022\",\"09/19/2022\",\"09/16/2022\"],\"y\":[156.9,154.48,150.7],\"type\":\"scatter\",\"xaxis\":\"x\",\"yaxis\":\"y\"},{\"line\":{\"color\":\"#277DFC\"},\"name\":\"Pat-3\",\"x\":[\"09/16/2022\",\"09/15/2022\",\"09/14/2022\",\"09/13/2022\",\"09/12/2022\"],\"y\":[150.7,152.37,155.31,153.84,163.43],\"type\":\"scatter\",\"xaxis\":\"x\",\"yaxis\":\"y\"},{\"line\":{\"color\":\"#CB0CFB\"},\"name\":\"Pat-4\",\"x\":[\"09/12/2022\"],\"y\":[163.43],\"type\":\"scatter\",\"xaxis\":\"x\",\"yaxis\":\"y\"},{\"line\":{\"color\":\"#FA3434\"},\"name\":\"Pat-0\",\"x\":[\"09/09/2022\",\"09/08/2022\"],\"y\":[157.37,154.46],\"type\":\"scatter\",\"xaxis\":\"x\",\"yaxis\":\"y\"},{\"line\":{\"color\":\"#D3FE27\"},\"name\":\"Pat-1\",\"x\":[\"09/08/2022\",\"09/07/2022\",\"09/06/2022\",\"09/02/2022\",\"09/01/2022\"],\"y\":[154.46,155.96,154.53,155.81,157.96],\"type\":\"scatter\",\"xaxis\":\"x\",\"yaxis\":\"y\"},{\"line\":{\"color\":\"#08F768\"},\"name\":\"Pat-2\",\"x\":[\"09/01/2022\",\"08/31/2022\"],\"y\":[157.96,157.22],\"type\":\"scatter\",\"xaxis\":\"x\",\"yaxis\":\"y\"},{\"line\":{\"color\":\"#277DFC\"},\"name\":\"Pat-3\",\"x\":[\"08/31/2022\",\"08/30/2022\",\"08/29/2022\"],\"y\":[157.22,158.91,161.38],\"type\":\"scatter\",\"xaxis\":\"x\",\"yaxis\":\"y\"},{\"line\":{\"color\":\"#CB0CFB\"},\"name\":\"Pat-4\",\"x\":[\"08/29/2022\",\"08/26/2022\"],\"y\":[161.38,163.62],\"type\":\"scatter\",\"xaxis\":\"x\",\"yaxis\":\"y\"},{\"line\":{\"color\":\"#FA3434\"},\"name\":\"Pat-0\",\"x\":[\"08/25/2022\",\"08/24/2022\"],\"y\":[170.03,167.53],\"type\":\"scatter\",\"xaxis\":\"x\",\"yaxis\":\"y\"},{\"line\":{\"color\":\"#D3FE27\"},\"name\":\"Pat-1\",\"x\":[\"08/24/2022\",\"08/23/2022\",\"08/22/2022\",\"08/19/2022\"],\"y\":[167.53,167.23,167.57,171.52],\"type\":\"scatter\",\"xaxis\":\"x\",\"yaxis\":\"y\"},{\"line\":{\"color\":\"#08F768\"},\"name\":\"Pat-2\",\"x\":[\"08/19/2022\",\"08/18/2022\",\"08/17/2022\",\"08/16/2022\"],\"y\":[171.52,174.15,174.55,173.03],\"type\":\"scatter\",\"xaxis\":\"x\",\"yaxis\":\"y\"},{\"line\":{\"color\":\"#277DFC\"},\"name\":\"Pat-3\",\"x\":[\"08/16/2022\",\"08/15/2022\"],\"y\":[173.03,173.19],\"type\":\"scatter\",\"xaxis\":\"x\",\"yaxis\":\"y\"},{\"line\":{\"color\":\"#CB0CFB\"},\"name\":\"Pat-4\",\"x\":[\"08/15/2022\",\"08/12/2022\"],\"y\":[173.19,172.1],\"type\":\"scatter\",\"xaxis\":\"x\",\"yaxis\":\"y\"},{\"line\":{\"color\":\"#FA3434\"},\"name\":\"Pat-0\",\"x\":[\"08/11/2022\",\"08/10/2022\",\"08/09/2022\"],\"y\":[168.49,169.24,164.92],\"type\":\"scatter\",\"xaxis\":\"x\",\"yaxis\":\"y\"},{\"line\":{\"color\":\"#D3FE27\"},\"name\":\"Pat-1\",\"x\":[\"08/09/2022\",\"08/08/2022\",\"08/05/2022\"],\"y\":[164.92,164.87,165.35],\"type\":\"scatter\",\"xaxis\":\"x\",\"yaxis\":\"y\"},{\"line\":{\"color\":\"#08F768\"},\"name\":\"Pat-2\",\"x\":[\"08/05/2022\",\"08/04/2022\",\"08/03/2022\",\"08/02/2022\"],\"y\":[165.35,165.81,166.13,160.01],\"type\":\"scatter\",\"xaxis\":\"x\",\"yaxis\":\"y\"},{\"line\":{\"color\":\"#277DFC\"},\"name\":\"Pat-3\",\"x\":[\"08/02/2022\",\"08/01/2022\",\"07/29/2022\"],\"y\":[160.01,161.51,162.51],\"type\":\"scatter\",\"xaxis\":\"x\",\"yaxis\":\"y\"},{\"line\":{\"color\":\"#CB0CFB\"},\"name\":\"Pat-4\",\"x\":[\"07/29/2022\"],\"y\":[162.51],\"type\":\"scatter\",\"xaxis\":\"x\",\"yaxis\":\"y\"},{\"line\":{\"color\":\"#FA3434\"},\"name\":\"Pat-0\",\"x\":[\"07/28/2022\",\"07/27/2022\",\"07/26/2022\"],\"y\":[157.35,156.79,151.6],\"type\":\"scatter\",\"xaxis\":\"x\",\"yaxis\":\"y\"},{\"line\":{\"color\":\"#D3FE27\"},\"name\":\"Pat-1\",\"x\":[\"07/26/2022\",\"07/25/2022\"],\"y\":[151.6,152.95],\"type\":\"scatter\",\"xaxis\":\"x\",\"yaxis\":\"y\"},{\"line\":{\"color\":\"#08F768\"},\"name\":\"Pat-2\",\"x\":[\"07/25/2022\",\"07/22/2022\",\"07/21/2022\",\"07/20/2022\",\"07/19/2022\",\"07/18/2022\"],\"y\":[152.95,154.09,155.35,153.04,151.0,147.07],\"type\":\"scatter\",\"xaxis\":\"x\",\"yaxis\":\"y\"},{\"line\":{\"color\":\"#277DFC\"},\"name\":\"Pat-3\",\"x\":[\"07/18/2022\",\"07/15/2022\"],\"y\":[147.07,150.17],\"type\":\"scatter\",\"xaxis\":\"x\",\"yaxis\":\"y\"},{\"line\":{\"color\":\"#CB0CFB\"},\"name\":\"Pat-4\",\"x\":[\"07/15/2022\"],\"y\":[150.17],\"type\":\"scatter\",\"xaxis\":\"x\",\"yaxis\":\"y\"},{\"line\":{\"color\":\"#FA3434\"},\"name\":\"Pat-0\",\"x\":[\"07/14/2022\",\"07/13/2022\"],\"y\":[148.47,145.49],\"type\":\"scatter\",\"xaxis\":\"x\",\"yaxis\":\"y\"},{\"line\":{\"color\":\"#D3FE27\"},\"name\":\"Pat-1\",\"x\":[\"07/13/2022\",\"07/12/2022\"],\"y\":[145.49,145.86],\"type\":\"scatter\",\"xaxis\":\"x\",\"yaxis\":\"y\"},{\"line\":{\"color\":\"#08F768\"},\"name\":\"Pat-2\",\"x\":[\"07/12/2022\",\"07/11/2022\",\"07/08/2022\",\"07/07/2022\",\"07/06/2022\"],\"y\":[145.86,144.87,147.04,146.35,142.92],\"type\":\"scatter\",\"xaxis\":\"x\",\"yaxis\":\"y\"},{\"line\":{\"color\":\"#277DFC\"},\"name\":\"Pat-3\",\"x\":[\"07/06/2022\",\"07/05/2022\",\"07/01/2022\",\"06/30/2022\"],\"y\":[142.92,141.56,138.93,136.72],\"type\":\"scatter\",\"xaxis\":\"x\",\"yaxis\":\"y\"},{\"line\":{\"color\":\"#CB0CFB\"},\"name\":\"Pat-4\",\"x\":[\"06/30/2022\"],\"y\":[136.72],\"type\":\"scatter\",\"xaxis\":\"x\",\"yaxis\":\"y\"},{\"line\":{\"color\":\"#FA3434\"},\"name\":\"Pat-0\",\"x\":[\"06/29/2022\",\"06/28/2022\"],\"y\":[139.23,137.44],\"type\":\"scatter\",\"xaxis\":\"x\",\"yaxis\":\"y\"},{\"line\":{\"color\":\"#D3FE27\"},\"name\":\"Pat-1\",\"x\":[\"06/28/2022\",\"06/27/2022\"],\"y\":[137.44,141.66],\"type\":\"scatter\",\"xaxis\":\"x\",\"yaxis\":\"y\"},{\"line\":{\"color\":\"#08F768\"},\"name\":\"Pat-2\",\"x\":[\"06/27/2022\",\"06/24/2022\",\"06/23/2022\",\"06/22/2022\"],\"y\":[141.66,141.66,138.27,135.35],\"type\":\"scatter\",\"xaxis\":\"x\",\"yaxis\":\"y\"},{\"line\":{\"color\":\"#277DFC\"},\"name\":\"Pat-3\",\"x\":[\"06/22/2022\",\"06/21/2022\",\"06/17/2022\",\"06/16/2022\",\"06/15/2022\"],\"y\":[135.35,135.87,131.56,130.06,135.43],\"type\":\"scatter\",\"xaxis\":\"x\",\"yaxis\":\"y\"},{\"line\":{\"color\":\"#CB0CFB\"},\"name\":\"Pat-4\",\"x\":[\"06/15/2022\"],\"y\":[135.43],\"type\":\"scatter\",\"xaxis\":\"x\",\"yaxis\":\"y\"},{\"line\":{\"color\":\"#FA3434\"},\"name\":\"Pat-0\",\"x\":[\"06/14/2022\",\"06/13/2022\"],\"y\":[132.76,131.88],\"type\":\"scatter\",\"xaxis\":\"x\",\"yaxis\":\"y\"},{\"line\":{\"color\":\"#D3FE27\"},\"name\":\"Pat-1\",\"x\":[\"06/13/2022\",\"06/10/2022\",\"06/09/2022\"],\"y\":[131.88,137.13,142.64],\"type\":\"scatter\",\"xaxis\":\"x\",\"yaxis\":\"y\"},{\"line\":{\"color\":\"#08F768\"},\"name\":\"Pat-2\",\"x\":[\"06/09/2022\",\"06/08/2022\",\"06/07/2022\",\"06/06/2022\",\"06/03/2022\"],\"y\":[142.64,147.96,148.71,146.14,145.38],\"type\":\"scatter\",\"xaxis\":\"x\",\"yaxis\":\"y\"},{\"line\":{\"color\":\"#277DFC\"},\"name\":\"Pat-3\",\"x\":[\"06/03/2022\",\"06/02/2022\"],\"y\":[145.38,151.21],\"type\":\"scatter\",\"xaxis\":\"x\",\"yaxis\":\"y\"},{\"line\":{\"color\":\"#CB0CFB\"},\"name\":\"Pat-4\",\"x\":[\"06/02/2022\",\"06/01/2022\"],\"y\":[151.21,148.71],\"type\":\"scatter\",\"xaxis\":\"x\",\"yaxis\":\"y\"},{\"line\":{\"color\":\"#FA3434\"},\"name\":\"Pat-0\",\"x\":[\"05/31/2022\",\"05/27/2022\",\"05/26/2022\"],\"y\":[148.84,149.64,143.78],\"type\":\"scatter\",\"xaxis\":\"x\",\"yaxis\":\"y\"},{\"line\":{\"color\":\"#D3FE27\"},\"name\":\"Pat-1\",\"x\":[\"05/26/2022\",\"05/25/2022\",\"05/24/2022\",\"05/23/2022\"],\"y\":[143.78,140.52,140.36,143.11],\"type\":\"scatter\",\"xaxis\":\"x\",\"yaxis\":\"y\"},{\"line\":{\"color\":\"#08F768\"},\"name\":\"Pat-2\",\"x\":[\"05/23/2022\",\"05/20/2022\"],\"y\":[143.11,137.59],\"type\":\"scatter\",\"xaxis\":\"x\",\"yaxis\":\"y\"},{\"line\":{\"color\":\"#277DFC\"},\"name\":\"Pat-3\",\"x\":[\"05/20/2022\",\"05/19/2022\",\"05/18/2022\",\"05/17/2022\"],\"y\":[137.59,137.35,140.82,149.24],\"type\":\"scatter\",\"xaxis\":\"x\",\"yaxis\":\"y\"},{\"line\":{\"color\":\"#CB0CFB\"},\"name\":\"Pat-4\",\"x\":[\"05/17/2022\"],\"y\":[149.24],\"type\":\"scatter\",\"xaxis\":\"x\",\"yaxis\":\"y\"},{\"line\":{\"color\":\"#FA3434\"},\"name\":\"Pat-0\",\"x\":[\"05/16/2022\",\"05/16/2022\"],\"y\":[145.54,145.54],\"type\":\"scatter\",\"xaxis\":\"x\",\"yaxis\":\"y\"},{\"line\":{\"color\":\"#D3FE27\"},\"name\":\"Pat-1\",\"x\":[\"05/16/2022\",\"05/13/2022\"],\"y\":[145.54,147.11],\"type\":\"scatter\",\"xaxis\":\"x\",\"yaxis\":\"y\"},{\"line\":{\"color\":\"#08F768\"},\"name\":\"Pat-2\",\"x\":[\"05/13/2022\",\"05/12/2022\"],\"y\":[147.11,142.56],\"type\":\"scatter\",\"xaxis\":\"x\",\"yaxis\":\"y\"},{\"line\":{\"color\":\"#277DFC\"},\"name\":\"Pat-3\",\"x\":[\"05/12/2022\",\"05/11/2022\",\"05/10/2022\"],\"y\":[142.56,146.5,154.51],\"type\":\"scatter\",\"xaxis\":\"x\",\"yaxis\":\"y\"},{\"line\":{\"color\":\"#CB0CFB\"},\"name\":\"Pat-4\",\"x\":[\"05/10/2022\",\"05/09/2022\"],\"y\":[154.51,152.06],\"type\":\"scatter\",\"xaxis\":\"x\",\"yaxis\":\"y\"}],                        {\"template\":{\"data\":{\"bar\":[{\"error_x\":{\"color\":\"#2a3f5f\"},\"error_y\":{\"color\":\"#2a3f5f\"},\"marker\":{\"line\":{\"color\":\"#E5ECF6\",\"width\":0.5},\"pattern\":{\"fillmode\":\"overlay\",\"size\":10,\"solidity\":0.2}},\"type\":\"bar\"}],\"barpolar\":[{\"marker\":{\"line\":{\"color\":\"#E5ECF6\",\"width\":0.5},\"pattern\":{\"fillmode\":\"overlay\",\"size\":10,\"solidity\":0.2}},\"type\":\"barpolar\"}],\"carpet\":[{\"aaxis\":{\"endlinecolor\":\"#2a3f5f\",\"gridcolor\":\"white\",\"linecolor\":\"white\",\"minorgridcolor\":\"white\",\"startlinecolor\":\"#2a3f5f\"},\"baxis\":{\"endlinecolor\":\"#2a3f5f\",\"gridcolor\":\"white\",\"linecolor\":\"white\",\"minorgridcolor\":\"white\",\"startlinecolor\":\"#2a3f5f\"},\"type\":\"carpet\"}],\"choropleth\":[{\"colorbar\":{\"outlinewidth\":0,\"ticks\":\"\"},\"type\":\"choropleth\"}],\"contour\":[{\"colorbar\":{\"outlinewidth\":0,\"ticks\":\"\"},\"colorscale\":[[0.0,\"#0d0887\"],[0.1111111111111111,\"#46039f\"],[0.2222222222222222,\"#7201a8\"],[0.3333333333333333,\"#9c179e\"],[0.4444444444444444,\"#bd3786\"],[0.5555555555555556,\"#d8576b\"],[0.6666666666666666,\"#ed7953\"],[0.7777777777777778,\"#fb9f3a\"],[0.8888888888888888,\"#fdca26\"],[1.0,\"#f0f921\"]],\"type\":\"contour\"}],\"contourcarpet\":[{\"colorbar\":{\"outlinewidth\":0,\"ticks\":\"\"},\"type\":\"contourcarpet\"}],\"heatmap\":[{\"colorbar\":{\"outlinewidth\":0,\"ticks\":\"\"},\"colorscale\":[[0.0,\"#0d0887\"],[0.1111111111111111,\"#46039f\"],[0.2222222222222222,\"#7201a8\"],[0.3333333333333333,\"#9c179e\"],[0.4444444444444444,\"#bd3786\"],[0.5555555555555556,\"#d8576b\"],[0.6666666666666666,\"#ed7953\"],[0.7777777777777778,\"#fb9f3a\"],[0.8888888888888888,\"#fdca26\"],[1.0,\"#f0f921\"]],\"type\":\"heatmap\"}],\"heatmapgl\":[{\"colorbar\":{\"outlinewidth\":0,\"ticks\":\"\"},\"colorscale\":[[0.0,\"#0d0887\"],[0.1111111111111111,\"#46039f\"],[0.2222222222222222,\"#7201a8\"],[0.3333333333333333,\"#9c179e\"],[0.4444444444444444,\"#bd3786\"],[0.5555555555555556,\"#d8576b\"],[0.6666666666666666,\"#ed7953\"],[0.7777777777777778,\"#fb9f3a\"],[0.8888888888888888,\"#fdca26\"],[1.0,\"#f0f921\"]],\"type\":\"heatmapgl\"}],\"histogram\":[{\"marker\":{\"pattern\":{\"fillmode\":\"overlay\",\"size\":10,\"solidity\":0.2}},\"type\":\"histogram\"}],\"histogram2d\":[{\"colorbar\":{\"outlinewidth\":0,\"ticks\":\"\"},\"colorscale\":[[0.0,\"#0d0887\"],[0.1111111111111111,\"#46039f\"],[0.2222222222222222,\"#7201a8\"],[0.3333333333333333,\"#9c179e\"],[0.4444444444444444,\"#bd3786\"],[0.5555555555555556,\"#d8576b\"],[0.6666666666666666,\"#ed7953\"],[0.7777777777777778,\"#fb9f3a\"],[0.8888888888888888,\"#fdca26\"],[1.0,\"#f0f921\"]],\"type\":\"histogram2d\"}],\"histogram2dcontour\":[{\"colorbar\":{\"outlinewidth\":0,\"ticks\":\"\"},\"colorscale\":[[0.0,\"#0d0887\"],[0.1111111111111111,\"#46039f\"],[0.2222222222222222,\"#7201a8\"],[0.3333333333333333,\"#9c179e\"],[0.4444444444444444,\"#bd3786\"],[0.5555555555555556,\"#d8576b\"],[0.6666666666666666,\"#ed7953\"],[0.7777777777777778,\"#fb9f3a\"],[0.8888888888888888,\"#fdca26\"],[1.0,\"#f0f921\"]],\"type\":\"histogram2dcontour\"}],\"mesh3d\":[{\"colorbar\":{\"outlinewidth\":0,\"ticks\":\"\"},\"type\":\"mesh3d\"}],\"parcoords\":[{\"line\":{\"colorbar\":{\"outlinewidth\":0,\"ticks\":\"\"}},\"type\":\"parcoords\"}],\"pie\":[{\"automargin\":true,\"type\":\"pie\"}],\"scatter\":[{\"marker\":{\"colorbar\":{\"outlinewidth\":0,\"ticks\":\"\"}},\"type\":\"scatter\"}],\"scatter3d\":[{\"line\":{\"colorbar\":{\"outlinewidth\":0,\"ticks\":\"\"}},\"marker\":{\"colorbar\":{\"outlinewidth\":0,\"ticks\":\"\"}},\"type\":\"scatter3d\"}],\"scattercarpet\":[{\"marker\":{\"colorbar\":{\"outlinewidth\":0,\"ticks\":\"\"}},\"type\":\"scattercarpet\"}],\"scattergeo\":[{\"marker\":{\"colorbar\":{\"outlinewidth\":0,\"ticks\":\"\"}},\"type\":\"scattergeo\"}],\"scattergl\":[{\"marker\":{\"colorbar\":{\"outlinewidth\":0,\"ticks\":\"\"}},\"type\":\"scattergl\"}],\"scattermapbox\":[{\"marker\":{\"colorbar\":{\"outlinewidth\":0,\"ticks\":\"\"}},\"type\":\"scattermapbox\"}],\"scatterpolar\":[{\"marker\":{\"colorbar\":{\"outlinewidth\":0,\"ticks\":\"\"}},\"type\":\"scatterpolar\"}],\"scatterpolargl\":[{\"marker\":{\"colorbar\":{\"outlinewidth\":0,\"ticks\":\"\"}},\"type\":\"scatterpolargl\"}],\"scatterternary\":[{\"marker\":{\"colorbar\":{\"outlinewidth\":0,\"ticks\":\"\"}},\"type\":\"scatterternary\"}],\"surface\":[{\"colorbar\":{\"outlinewidth\":0,\"ticks\":\"\"},\"colorscale\":[[0.0,\"#0d0887\"],[0.1111111111111111,\"#46039f\"],[0.2222222222222222,\"#7201a8\"],[0.3333333333333333,\"#9c179e\"],[0.4444444444444444,\"#bd3786\"],[0.5555555555555556,\"#d8576b\"],[0.6666666666666666,\"#ed7953\"],[0.7777777777777778,\"#fb9f3a\"],[0.8888888888888888,\"#fdca26\"],[1.0,\"#f0f921\"]],\"type\":\"surface\"}],\"table\":[{\"cells\":{\"fill\":{\"color\":\"#EBF0F8\"},\"line\":{\"color\":\"white\"}},\"header\":{\"fill\":{\"color\":\"#C8D4E3\"},\"line\":{\"color\":\"white\"}},\"type\":\"table\"}]},\"layout\":{\"annotationdefaults\":{\"arrowcolor\":\"#2a3f5f\",\"arrowhead\":0,\"arrowwidth\":1},\"autotypenumbers\":\"strict\",\"coloraxis\":{\"colorbar\":{\"outlinewidth\":0,\"ticks\":\"\"}},\"colorscale\":{\"diverging\":[[0,\"#8e0152\"],[0.1,\"#c51b7d\"],[0.2,\"#de77ae\"],[0.3,\"#f1b6da\"],[0.4,\"#fde0ef\"],[0.5,\"#f7f7f7\"],[0.6,\"#e6f5d0\"],[0.7,\"#b8e186\"],[0.8,\"#7fbc41\"],[0.9,\"#4d9221\"],[1,\"#276419\"]],\"sequential\":[[0.0,\"#0d0887\"],[0.1111111111111111,\"#46039f\"],[0.2222222222222222,\"#7201a8\"],[0.3333333333333333,\"#9c179e\"],[0.4444444444444444,\"#bd3786\"],[0.5555555555555556,\"#d8576b\"],[0.6666666666666666,\"#ed7953\"],[0.7777777777777778,\"#fb9f3a\"],[0.8888888888888888,\"#fdca26\"],[1.0,\"#f0f921\"]],\"sequentialminus\":[[0.0,\"#0d0887\"],[0.1111111111111111,\"#46039f\"],[0.2222222222222222,\"#7201a8\"],[0.3333333333333333,\"#9c179e\"],[0.4444444444444444,\"#bd3786\"],[0.5555555555555556,\"#d8576b\"],[0.6666666666666666,\"#ed7953\"],[0.7777777777777778,\"#fb9f3a\"],[0.8888888888888888,\"#fdca26\"],[1.0,\"#f0f921\"]]},\"colorway\":[\"#636efa\",\"#EF553B\",\"#00cc96\",\"#ab63fa\",\"#FFA15A\",\"#19d3f3\",\"#FF6692\",\"#B6E880\",\"#FF97FF\",\"#FECB52\"],\"font\":{\"color\":\"#2a3f5f\"},\"geo\":{\"bgcolor\":\"white\",\"lakecolor\":\"white\",\"landcolor\":\"#E5ECF6\",\"showlakes\":true,\"showland\":true,\"subunitcolor\":\"white\"},\"hoverlabel\":{\"align\":\"left\"},\"hovermode\":\"closest\",\"mapbox\":{\"style\":\"light\"},\"paper_bgcolor\":\"white\",\"plot_bgcolor\":\"#E5ECF6\",\"polar\":{\"angularaxis\":{\"gridcolor\":\"white\",\"linecolor\":\"white\",\"ticks\":\"\"},\"bgcolor\":\"#E5ECF6\",\"radialaxis\":{\"gridcolor\":\"white\",\"linecolor\":\"white\",\"ticks\":\"\"}},\"scene\":{\"xaxis\":{\"backgroundcolor\":\"#E5ECF6\",\"gridcolor\":\"white\",\"gridwidth\":2,\"linecolor\":\"white\",\"showbackground\":true,\"ticks\":\"\",\"zerolinecolor\":\"white\"},\"yaxis\":{\"backgroundcolor\":\"#E5ECF6\",\"gridcolor\":\"white\",\"gridwidth\":2,\"linecolor\":\"white\",\"showbackground\":true,\"ticks\":\"\",\"zerolinecolor\":\"white\"},\"zaxis\":{\"backgroundcolor\":\"#E5ECF6\",\"gridcolor\":\"white\",\"gridwidth\":2,\"linecolor\":\"white\",\"showbackground\":true,\"ticks\":\"\",\"zerolinecolor\":\"white\"}},\"shapedefaults\":{\"line\":{\"color\":\"#2a3f5f\"}},\"ternary\":{\"aaxis\":{\"gridcolor\":\"white\",\"linecolor\":\"white\",\"ticks\":\"\"},\"baxis\":{\"gridcolor\":\"white\",\"linecolor\":\"white\",\"ticks\":\"\"},\"bgcolor\":\"#E5ECF6\",\"caxis\":{\"gridcolor\":\"white\",\"linecolor\":\"white\",\"ticks\":\"\"}},\"title\":{\"x\":0.05},\"xaxis\":{\"automargin\":true,\"gridcolor\":\"white\",\"linecolor\":\"white\",\"ticks\":\"\",\"title\":{\"standoff\":15},\"zerolinecolor\":\"white\",\"zerolinewidth\":2},\"yaxis\":{\"automargin\":true,\"gridcolor\":\"white\",\"linecolor\":\"white\",\"ticks\":\"\",\"title\":{\"standoff\":15},\"zerolinecolor\":\"white\",\"zerolinewidth\":2}}},\"xaxis\":{\"anchor\":\"y\",\"domain\":[0.0,1.0],\"rangeslider\":{\"visible\":false}},\"yaxis\":{\"anchor\":\"x\",\"domain\":[0.575,1.0]},\"xaxis2\":{\"anchor\":\"y2\",\"domain\":[0.0,1.0]},\"yaxis2\":{\"anchor\":\"x2\",\"domain\":[0.0,0.425]}},                        {\"responsive\": true}                    ).then(function(){\n",
              "                            \n",
              "var gd = document.getElementById('cedba0a4-2287-44b0-a02d-05a7b1039992');\n",
              "var x = new MutationObserver(function (mutations, observer) {{\n",
              "        var display = window.getComputedStyle(gd).display;\n",
              "        if (!display || display === 'none') {{\n",
              "            console.log([gd, 'removed!']);\n",
              "            Plotly.purge(gd);\n",
              "            observer.disconnect();\n",
              "        }}\n",
              "}});\n",
              "\n",
              "// Listen for the removal of the full notebook cells\n",
              "var notebookContainer = gd.closest('#notebook-container');\n",
              "if (notebookContainer) {{\n",
              "    x.observe(notebookContainer, {childList: true});\n",
              "}}\n",
              "\n",
              "// Listen for the clearing of the current output cell\n",
              "var outputEl = gd.closest('.output');\n",
              "if (outputEl) {{\n",
              "    x.observe(outputEl, {childList: true});\n",
              "}}\n",
              "\n",
              "                        })                };                            </script>        </div>\n",
              "</body>\n",
              "</html>"
            ]
          },
          "metadata": {}
        }
      ]
    },
    {
      "cell_type": "markdown",
      "source": [
        "The algorithm exhibits identified sequences with close resemblance of target financial patterns while incorporating some variations tolerable in human sense."
      ],
      "metadata": {
        "id": "YsezhfJvyRwU"
      }
    },
    {
      "cell_type": "code",
      "source": [],
      "metadata": {
        "id": "ZIBVkoPMmxzB"
      },
      "execution_count": null,
      "outputs": []
    }
  ]
}